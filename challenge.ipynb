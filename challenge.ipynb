{
 "cells": [
  {
   "cell_type": "code",
   "execution_count": 65,
   "metadata": {
    "collapsed": true
   },
   "outputs": [],
   "source": [
    "import numpy as np\n",
    "import pandas as pd\n",
    "import json"
   ]
  },
  {
   "cell_type": "code",
   "execution_count": 66,
   "metadata": {
    "collapsed": false
   },
   "outputs": [],
   "source": [
    "with open('data_analysis.json') as f:\n",
    "    data = json.load(f)"
   ]
  },
  {
   "cell_type": "code",
   "execution_count": 67,
   "metadata": {
    "collapsed": false
   },
   "outputs": [
    {
     "name": "stdout",
     "output_type": "stream",
     "text": [
      "Number of records: 1000000\n"
     ]
    }
   ],
   "source": [
    "print 'Number of records: ' + str(len(data))"
   ]
  },
  {
   "cell_type": "code",
   "execution_count": 68,
   "metadata": {
    "collapsed": false
   },
   "outputs": [
    {
     "data": {
      "text/plain": [
       "[{u'address': u'10085 SCRIPPS RANCH CT STE A',\n",
       "  u'category_code': u'44420000',\n",
       "  u'city': u'SAN DIEGO',\n",
       "  u'headcount': u'50 to 99',\n",
       "  u'name': u'AMD CUSTOM',\n",
       "  u'phone': u'3123628000',\n",
       "  u'revenue': u'$20 to 50 Million',\n",
       "  u'state': u'CA',\n",
       "  u'time_in_business': u'10+ years',\n",
       "  u'zip': u'92131'},\n",
       " {u'address': u'2566 SHALLOWFORD RD NE STE 104 # 302',\n",
       "  u'category_code': u'31490000',\n",
       "  u'city': u'ATLANTA',\n",
       "  u'headcount': u'1 to 4',\n",
       "  u'name': u'Real Hope Real Estate Inc',\n",
       "  u'phone': None,\n",
       "  u'revenue': u'Less Than $500,000',\n",
       "  u'state': u'GA',\n",
       "  u'time_in_business': u'10+ years',\n",
       "  u'zip': u'30345'},\n",
       " {u'address': u'212 E MAIN ST',\n",
       "  u'category_code': u'53120000',\n",
       "  u'city': u'NEOSHO',\n",
       "  u'headcount': u'1 to 4',\n",
       "  u'name': u'Jimmy Sexton Photography',\n",
       "  u'phone': u'4046331779',\n",
       "  u'revenue': u'Less Than $500,000',\n",
       "  u'state': u'MO',\n",
       "  u'time_in_business': u'10+ years',\n",
       "  u'zip': u'64850'}]"
      ]
     },
     "execution_count": 68,
     "metadata": {},
     "output_type": "execute_result"
    }
   ],
   "source": [
    "data[:3]"
   ]
  },
  {
   "cell_type": "markdown",
   "metadata": {},
   "source": [
    "JSON data is not nested so we can easily read it into a Pandas dataframe and take advantage of Pandas methods."
   ]
  },
  {
   "cell_type": "code",
   "execution_count": 69,
   "metadata": {
    "collapsed": false
   },
   "outputs": [],
   "source": [
    "df = pd.read_json('data_analysis.json')"
   ]
  },
  {
   "cell_type": "code",
   "execution_count": 70,
   "metadata": {
    "collapsed": false
   },
   "outputs": [
    {
     "data": {
      "text/html": [
       "<div>\n",
       "<style>\n",
       "    .dataframe thead tr:only-child th {\n",
       "        text-align: right;\n",
       "    }\n",
       "\n",
       "    .dataframe thead th {\n",
       "        text-align: left;\n",
       "    }\n",
       "\n",
       "    .dataframe tbody tr th {\n",
       "        vertical-align: top;\n",
       "    }\n",
       "</style>\n",
       "<table border=\"1\" class=\"dataframe\">\n",
       "  <thead>\n",
       "    <tr style=\"text-align: right;\">\n",
       "      <th></th>\n",
       "      <th>address</th>\n",
       "      <th>category_code</th>\n",
       "      <th>city</th>\n",
       "      <th>headcount</th>\n",
       "      <th>name</th>\n",
       "      <th>phone</th>\n",
       "      <th>revenue</th>\n",
       "      <th>state</th>\n",
       "      <th>time_in_business</th>\n",
       "      <th>zip</th>\n",
       "    </tr>\n",
       "  </thead>\n",
       "  <tbody>\n",
       "    <tr>\n",
       "      <th>0</th>\n",
       "      <td>10085 SCRIPPS RANCH CT STE A</td>\n",
       "      <td>44420000</td>\n",
       "      <td>SAN DIEGO</td>\n",
       "      <td>50 to 99</td>\n",
       "      <td>AMD CUSTOM</td>\n",
       "      <td>3123628000</td>\n",
       "      <td>$20 to 50 Million</td>\n",
       "      <td>CA</td>\n",
       "      <td>10+ years</td>\n",
       "      <td>92131</td>\n",
       "    </tr>\n",
       "    <tr>\n",
       "      <th>1</th>\n",
       "      <td>2566 SHALLOWFORD RD NE STE 104 # 302</td>\n",
       "      <td>31490000</td>\n",
       "      <td>ATLANTA</td>\n",
       "      <td>1 to 4</td>\n",
       "      <td>Real Hope Real Estate Inc</td>\n",
       "      <td>None</td>\n",
       "      <td>Less Than $500,000</td>\n",
       "      <td>GA</td>\n",
       "      <td>10+ years</td>\n",
       "      <td>30345</td>\n",
       "    </tr>\n",
       "    <tr>\n",
       "      <th>2</th>\n",
       "      <td>212 E MAIN ST</td>\n",
       "      <td>53120000</td>\n",
       "      <td>NEOSHO</td>\n",
       "      <td>1 to 4</td>\n",
       "      <td>Jimmy Sexton Photography</td>\n",
       "      <td>4046331779</td>\n",
       "      <td>Less Than $500,000</td>\n",
       "      <td>MO</td>\n",
       "      <td>10+ years</td>\n",
       "      <td>64850</td>\n",
       "    </tr>\n",
       "    <tr>\n",
       "      <th>3</th>\n",
       "      <td>6032 CHEROKEE DR</td>\n",
       "      <td>54000000</td>\n",
       "      <td>CINCINNATI</td>\n",
       "      <td>1 to 4</td>\n",
       "      <td>YOU'RE ART</td>\n",
       "      <td>4174513798</td>\n",
       "      <td>Less Than $500,000</td>\n",
       "      <td>OH</td>\n",
       "      <td>10+ years</td>\n",
       "      <td>45243</td>\n",
       "    </tr>\n",
       "    <tr>\n",
       "      <th>4</th>\n",
       "      <td>1315 N WOOSTER AVE</td>\n",
       "      <td>54100000</td>\n",
       "      <td>STRASBURG</td>\n",
       "      <td>1 to 4</td>\n",
       "      <td>Hayberg Restoration Network LLC</td>\n",
       "      <td>5135612584</td>\n",
       "      <td>$500,000 to $1 Million</td>\n",
       "      <td>OH</td>\n",
       "      <td>10+ years</td>\n",
       "      <td>44680</td>\n",
       "    </tr>\n",
       "  </tbody>\n",
       "</table>\n",
       "</div>"
      ],
      "text/plain": [
       "                                address category_code        city headcount  \\\n",
       "0          10085 SCRIPPS RANCH CT STE A      44420000   SAN DIEGO  50 to 99   \n",
       "1  2566 SHALLOWFORD RD NE STE 104 # 302      31490000     ATLANTA    1 to 4   \n",
       "2                         212 E MAIN ST      53120000      NEOSHO    1 to 4   \n",
       "3                      6032 CHEROKEE DR      54000000  CINCINNATI    1 to 4   \n",
       "4                    1315 N WOOSTER AVE      54100000   STRASBURG    1 to 4   \n",
       "\n",
       "                              name       phone                 revenue state  \\\n",
       "0                       AMD CUSTOM  3123628000       $20 to 50 Million    CA   \n",
       "1        Real Hope Real Estate Inc        None      Less Than $500,000    GA   \n",
       "2         Jimmy Sexton Photography  4046331779      Less Than $500,000    MO   \n",
       "3                       YOU'RE ART  4174513798      Less Than $500,000    OH   \n",
       "4  Hayberg Restoration Network LLC  5135612584  $500,000 to $1 Million    OH   \n",
       "\n",
       "  time_in_business    zip  \n",
       "0        10+ years  92131  \n",
       "1        10+ years  30345  \n",
       "2        10+ years  64850  \n",
       "3        10+ years  45243  \n",
       "4        10+ years  44680  "
      ]
     },
     "execution_count": 70,
     "metadata": {},
     "output_type": "execute_result"
    }
   ],
   "source": [
    "df.head()"
   ]
  },
  {
   "cell_type": "markdown",
   "metadata": {},
   "source": [
    "Some leading zeros get dropped when reading the json and inferring data types. This would need to be fixed if we wanted to check for proper format for some of the columns (such as zip code)."
   ]
  },
  {
   "cell_type": "markdown",
   "metadata": {},
   "source": [
    "### 1. Fill rate"
   ]
  },
  {
   "cell_type": "code",
   "execution_count": 71,
   "metadata": {
    "collapsed": false
   },
   "outputs": [
    {
     "data": {
      "text/plain": [
       "address                 14\n",
       "category_code           14\n",
       "city                    14\n",
       "headcount            37648\n",
       "name                    14\n",
       "phone               409111\n",
       "revenue              56908\n",
       "state                   14\n",
       "time_in_business     83875\n",
       "zip                     12\n",
       "dtype: int64"
      ]
     },
     "execution_count": 71,
     "metadata": {},
     "output_type": "execute_result"
    }
   ],
   "source": [
    "# identify values equal to None\n",
    "df.isnull().sum()"
   ]
  },
  {
   "cell_type": "code",
   "execution_count": 72,
   "metadata": {
    "collapsed": false
   },
   "outputs": [
    {
     "name": "stdout",
     "output_type": "stream",
     "text": [
      "Fill rate for each field:\n",
      "\n",
      "address             999986\n",
      "category_code       999986\n",
      "city                999986\n",
      "headcount           962352\n",
      "name                999986\n",
      "phone               590889\n",
      "revenue             943092\n",
      "state               999986\n",
      "time_in_business    916125\n",
      "zip                 999988\n",
      "dtype: int64\n"
     ]
    }
   ],
   "source": [
    "missing = df.isnull().sum()\n",
    "fillrate = 1000000 - missing\n",
    "print 'Fill rate for each field:\\n'\n",
    "print fillrate"
   ]
  },
  {
   "cell_type": "markdown",
   "metadata": {},
   "source": [
    "### 2. True-valued fill rate"
   ]
  },
  {
   "cell_type": "code",
   "execution_count": 73,
   "metadata": {
    "collapsed": false
   },
   "outputs": [
    {
     "data": {
      "text/plain": [
       "array([u'50 to 99', u'1 to 4', u'5 to 9', u'10 to 19', u'20 to 49', None,\n",
       "       u'100 to 249', u'250 to 499', u'500 to 999', u'Over 1,000', u'0',\n",
       "       u'none', 0, u'null', u' ', u''], dtype=object)"
      ]
     },
     "execution_count": 73,
     "metadata": {},
     "output_type": "execute_result"
    }
   ],
   "source": [
    "# take a look at values for a field with limited possible values, to try to identify bad data\n",
    "df.headcount.unique()"
   ]
  },
  {
   "cell_type": "code",
   "execution_count": 74,
   "metadata": {
    "collapsed": false
   },
   "outputs": [
    {
     "name": "stdout",
     "output_type": "stream",
     "text": [
      "Other likely non-relevant values:\n",
      "[u'0' u'none' 0 u'null' u' ' u'']\n"
     ]
    }
   ],
   "source": [
    "non_relevant = df.headcount.unique()[-6:]\n",
    "\n",
    "print 'Other likely non-relevant values:'\n",
    "print non_relevant"
   ]
  },
  {
   "cell_type": "code",
   "execution_count": 75,
   "metadata": {
    "collapsed": true
   },
   "outputs": [],
   "source": [
    "df1 = df.where(~df.isin(non_relevant), None)"
   ]
  },
  {
   "cell_type": "code",
   "execution_count": 77,
   "metadata": {
    "collapsed": false
   },
   "outputs": [
    {
     "name": "stdout",
     "output_type": "stream",
     "text": [
      "True-valued fill rate for each field:\n",
      "\n"
     ]
    },
    {
     "data": {
      "text/plain": [
       "address             999898\n",
       "category_code       999910\n",
       "city                999895\n",
       "headcount           962273\n",
       "name                999910\n",
       "phone               590798\n",
       "revenue             943001\n",
       "state               999896\n",
       "time_in_business    916048\n",
       "zip                 999890\n",
       "dtype: int64"
      ]
     },
     "execution_count": 77,
     "metadata": {},
     "output_type": "execute_result"
    }
   ],
   "source": [
    "print 'True-valued fill rate for each field:\\n'\n",
    "1000000 - df1.isnull().sum()"
   ]
  },
  {
   "cell_type": "markdown",
   "metadata": {},
   "source": [
    "Perhaps we should check if there are any longer blank strings..."
   ]
  },
  {
   "cell_type": "code",
   "execution_count": 78,
   "metadata": {
    "collapsed": false
   },
   "outputs": [],
   "source": [
    "def strip_values(val):\n",
    "    if val:\n",
    "        return val.strip()\n",
    "    \n",
    "df_stripped = df1.applymap(strip_values)\n",
    "df_no_empties = df_stripped.where(df_stripped != '', None)"
   ]
  },
  {
   "cell_type": "code",
   "execution_count": 79,
   "metadata": {
    "collapsed": false,
    "scrolled": true
   },
   "outputs": [
    {
     "name": "stdout",
     "output_type": "stream",
     "text": [
      "True-valued fill rate for each field:\n",
      "\n"
     ]
    },
    {
     "data": {
      "text/plain": [
       "address             999898\n",
       "category_code       999910\n",
       "city                999895\n",
       "headcount           962273\n",
       "name                999910\n",
       "phone               590798\n",
       "revenue             943001\n",
       "state               999896\n",
       "time_in_business    916048\n",
       "zip                 999890\n",
       "dtype: int64"
      ]
     },
     "execution_count": 79,
     "metadata": {},
     "output_type": "execute_result"
    }
   ],
   "source": [
    "# results are the same\n",
    "print 'True-valued fill rate for each field:\\n'\n",
    "1000000 - df_no_empties.isnull().sum()"
   ]
  },
  {
   "cell_type": "markdown",
   "metadata": {
    "collapsed": true
   },
   "source": [
    "### 3. Cardinality"
   ]
  },
  {
   "cell_type": "code",
   "execution_count": 80,
   "metadata": {
    "collapsed": false
   },
   "outputs": [
    {
     "name": "stdout",
     "output_type": "stream",
     "text": [
      "Number of unique values for each field:\n"
     ]
    },
    {
     "data": {
      "text/plain": [
       "address             892115\n",
       "category_code         1179\n",
       "city                 13715\n",
       "headcount               10\n",
       "name                890718\n",
       "phone               575149\n",
       "revenue                 12\n",
       "state                   54\n",
       "time_in_business         6\n",
       "zip                  26392\n",
       "dtype: int64"
      ]
     },
     "execution_count": 80,
     "metadata": {},
     "output_type": "execute_result"
    }
   ],
   "source": [
    "print 'Number of unique values for each field:'\n",
    "df1.apply(lambda x: len(x.unique()))"
   ]
  },
  {
   "cell_type": "markdown",
   "metadata": {
    "collapsed": true
   },
   "source": [
    "### 4. Something else interesting...\n",
    "\n",
    "Which zip codes have the highest number (percentage-wise) of companies in each `time_in_business` category?"
   ]
  },
  {
   "cell_type": "code",
   "execution_count": 81,
   "metadata": {
    "collapsed": false
   },
   "outputs": [
    {
     "data": {
      "text/plain": [
       "array([u'10+ years', u'6-10 years', None, u'1-2 years', u'3-5 years',\n",
       "       u'Less than a year'], dtype=object)"
      ]
     },
     "execution_count": 81,
     "metadata": {},
     "output_type": "execute_result"
    }
   ],
   "source": [
    "df1.time_in_business.unique()"
   ]
  },
  {
   "cell_type": "code",
   "execution_count": 82,
   "metadata": {
    "collapsed": false
   },
   "outputs": [],
   "source": [
    "# total number of businesses by zip\n",
    "total_counts = df1.zip.value_counts()"
   ]
  },
  {
   "cell_type": "code",
   "execution_count": 83,
   "metadata": {
    "collapsed": false
   },
   "outputs": [],
   "source": [
    "# just look at the top 100 zips in terms of total count\n",
    "df2 = df1[df1.zip.isin(total_counts.index[:100])]"
   ]
  },
  {
   "cell_type": "code",
   "execution_count": 84,
   "metadata": {
    "collapsed": false
   },
   "outputs": [],
   "source": [
    "# counts for each zip, for each 'time_in_business' category\n",
    "counts = df2.groupby('time_in_business').zip.value_counts()"
   ]
  },
  {
   "cell_type": "code",
   "execution_count": 85,
   "metadata": {
    "collapsed": false
   },
   "outputs": [],
   "source": [
    "# get a list of total counts matching the 'counts' series, \n",
    "# to divide 'counts' by and get a percentage for each category\n",
    "totals = [total_counts[x] for x in counts.index.get_level_values(1)]"
   ]
  },
  {
   "cell_type": "code",
   "execution_count": 86,
   "metadata": {
    "collapsed": false
   },
   "outputs": [
    {
     "name": "stdout",
     "output_type": "stream",
     "text": [
      "1-2 years\n",
      "zip\n",
      "85016    0.028061\n",
      "30305    0.025189\n",
      "10012    0.024938\n",
      "29607    0.024450\n",
      "77027    0.024450\n",
      "10003    0.023891\n",
      "60654    0.023861\n",
      "91730    0.022613\n",
      "37203    0.022167\n",
      "75201    0.020785\n",
      "Name: zip, dtype: float64\n",
      "10+ years\n",
      "zip\n",
      "90025    0.808858\n",
      "92612    0.793814\n",
      "20850    0.790826\n",
      "78701    0.790490\n",
      "32789    0.789894\n",
      "21401    0.789030\n",
      "75006    0.788918\n",
      "33431    0.787234\n",
      "90670    0.785340\n",
      "93401    0.783333\n",
      "Name: zip, dtype: float64\n",
      "3-5 years\n",
      "zip\n",
      "29607    0.070905\n",
      "30339    0.058952\n",
      "60007    0.054435\n",
      "10016    0.053089\n",
      "78216    0.052506\n",
      "78759    0.050955\n",
      "94111    0.050847\n",
      "80302    0.050239\n",
      "94612    0.050125\n",
      "10013    0.049270\n",
      "Name: zip, dtype: float64\n",
      "6-10 years\n",
      "zip\n",
      "98052    0.155131\n",
      "94107    0.126168\n",
      "10010    0.124777\n",
      "60654    0.123644\n",
      "83702    0.121588\n",
      "60563    0.121519\n",
      "94538    0.121348\n",
      "92626    0.121277\n",
      "94901    0.121140\n",
      "37027    0.119923\n",
      "Name: zip, dtype: float64\n"
     ]
    }
   ],
   "source": [
    "normalized = counts/totals\n",
    "\n",
    "# show the top 10 by percentage for each category\n",
    "for i in normalized.index.get_level_values(0).unique():\n",
    "    print i\n",
    "    print normalized[i].nlargest(10)"
   ]
  },
  {
   "cell_type": "code",
   "execution_count": null,
   "metadata": {
    "collapsed": true
   },
   "outputs": [],
   "source": []
  }
 ],
 "metadata": {
  "kernelspec": {
   "display_name": "Python [Root]",
   "language": "python",
   "name": "Python [Root]"
  },
  "language_info": {
   "codemirror_mode": {
    "name": "ipython",
    "version": 2
   },
   "file_extension": ".py",
   "mimetype": "text/x-python",
   "name": "python",
   "nbconvert_exporter": "python",
   "pygments_lexer": "ipython2",
   "version": "2.7.12"
  }
 },
 "nbformat": 4,
 "nbformat_minor": 2
}
